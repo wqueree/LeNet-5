{
 "cells": [
  {
   "cell_type": "markdown",
   "metadata": {},
   "source": [
    "# LeNet-5"
   ]
  },
  {
   "cell_type": "markdown",
   "metadata": {},
   "source": [
    "## Imports"
   ]
  },
  {
   "cell_type": "code",
   "execution_count": 6,
   "metadata": {},
   "outputs": [],
   "source": [
    "import tensorflow as tf\n",
    "from tensorflow import keras"
   ]
  },
  {
   "cell_type": "markdown",
   "metadata": {},
   "source": [
    "## Data"
   ]
  },
  {
   "cell_type": "code",
   "execution_count": 7,
   "metadata": {},
   "outputs": [],
   "source": [
    "(x_train, y_train), (x_test, y_test) = tf.keras.datasets.mnist.load_data()\n",
    "x_train = x_train.reshape(x_train.shape[0], 28, 28, 1)\n",
    "x_test = x_test.reshape(x_test.shape[0], 28, 28, 1)\n",
    "\n",
    "x_train = x_train / 255\n",
    "x_test = x_test / 255\n",
    "\n",
    "y_train = keras.utils.to_categorical(y_train, 10)\n",
    "y_test = keras.utils.to_categorical(y_test, 10)"
   ]
  },
  {
   "cell_type": "markdown",
   "metadata": {},
   "source": [
    "## Model"
   ]
  },
  {
   "cell_type": "markdown",
   "metadata": {},
   "source": [
    "### Structure"
   ]
  },
  {
   "cell_type": "code",
   "execution_count": 8,
   "metadata": {},
   "outputs": [],
   "source": [
    "model = tf.keras.models.Sequential()\n",
    "model.add(tf.keras.layers.Conv2D(filters=6, kernel_size=(5, 5), activation=\"relu\", input_shape=(28, 28, 1))) # C1\n",
    "model.add(tf.keras.layers.AveragePooling2D(pool_size=(2, 2))) # S2\n",
    "model.add(tf.keras.layers.Conv2D(filters=16, kernel_size=(5, 5), activation=\"relu\")) # C3\n",
    "model.add(tf.keras.layers.AveragePooling2D(pool_size=(2, 2))) # S4\n",
    "model.add(tf.keras.layers.Conv2D(filters=16, kernel_size=(5, 5), activation=\"relu\", padding=\"same\"))\n",
    "model.add(tf.keras.layers.Flatten()) \n",
    "model.add(tf.keras.layers.Dense(120, activation=\"relu\")) # C5\n",
    "model.add(tf.keras.layers.Dense(84, activation=\"relu\")) # F6\n",
    "model.add(tf.keras.layers.Dense(10, activation=\"softmax\")) # OUTPUT\n"
   ]
  },
  {
   "cell_type": "markdown",
   "metadata": {},
   "source": [
    "### Train"
   ]
  },
  {
   "cell_type": "code",
   "execution_count": 9,
   "metadata": {},
   "outputs": [
    {
     "name": "stdout",
     "output_type": "stream",
     "text": [
      "Epoch 1/20\n",
      "469/469 [==============================] - 12s 22ms/step - loss: 0.0320 - accuracy: 0.7573 - val_loss: 0.0091 - val_accuracy: 0.9425\n",
      "Epoch 2/20\n",
      "469/469 [==============================] - 7s 15ms/step - loss: 0.0079 - accuracy: 0.9479 - val_loss: 0.0055 - val_accuracy: 0.9646\n",
      "Epoch 3/20\n",
      "469/469 [==============================] - 6s 13ms/step - loss: 0.0052 - accuracy: 0.9661 - val_loss: 0.0039 - val_accuracy: 0.9748\n",
      "Epoch 4/20\n",
      "469/469 [==============================] - 6s 13ms/step - loss: 0.0040 - accuracy: 0.9746 - val_loss: 0.0038 - val_accuracy: 0.9746\n",
      "Epoch 5/20\n",
      "469/469 [==============================] - 7s 14ms/step - loss: 0.0033 - accuracy: 0.9788 - val_loss: 0.0033 - val_accuracy: 0.9789\n",
      "Epoch 6/20\n",
      "469/469 [==============================] - 5s 11ms/step - loss: 0.0028 - accuracy: 0.9822 - val_loss: 0.0024 - val_accuracy: 0.9842\n",
      "Epoch 7/20\n",
      "469/469 [==============================] - 6s 14ms/step - loss: 0.0024 - accuracy: 0.9849 - val_loss: 0.0029 - val_accuracy: 0.9809\n",
      "Epoch 8/20\n",
      "469/469 [==============================] - 8s 16ms/step - loss: 0.0021 - accuracy: 0.9867 - val_loss: 0.0024 - val_accuracy: 0.9844\n",
      "Epoch 9/20\n",
      "469/469 [==============================] - 7s 14ms/step - loss: 0.0020 - accuracy: 0.9874 - val_loss: 0.0026 - val_accuracy: 0.9826\n",
      "Epoch 10/20\n",
      "469/469 [==============================] - 4s 9ms/step - loss: 0.0018 - accuracy: 0.9884 - val_loss: 0.0022 - val_accuracy: 0.9854\n",
      "Epoch 11/20\n",
      "469/469 [==============================] - 6s 12ms/step - loss: 0.0017 - accuracy: 0.9896 - val_loss: 0.0019 - val_accuracy: 0.9881\n",
      "Epoch 12/20\n",
      "469/469 [==============================] - 7s 14ms/step - loss: 0.0015 - accuracy: 0.9904 - val_loss: 0.0019 - val_accuracy: 0.9884\n",
      "Epoch 13/20\n",
      "469/469 [==============================] - 6s 13ms/step - loss: 0.0014 - accuracy: 0.9918 - val_loss: 0.0021 - val_accuracy: 0.9862\n",
      "Epoch 14/20\n",
      "469/469 [==============================] - 6s 13ms/step - loss: 0.0013 - accuracy: 0.9920 - val_loss: 0.0018 - val_accuracy: 0.9886\n",
      "Epoch 15/20\n",
      "469/469 [==============================] - 6s 13ms/step - loss: 0.0012 - accuracy: 0.9926 - val_loss: 0.0022 - val_accuracy: 0.9853\n",
      "Epoch 16/20\n",
      "469/469 [==============================] - 6s 13ms/step - loss: 0.0011 - accuracy: 0.9935 - val_loss: 0.0019 - val_accuracy: 0.9877\n",
      "Epoch 17/20\n",
      "469/469 [==============================] - 7s 14ms/step - loss: 0.0011 - accuracy: 0.9938 - val_loss: 0.0018 - val_accuracy: 0.9874\n",
      "Epoch 18/20\n",
      "469/469 [==============================] - 7s 14ms/step - loss: 0.0010 - accuracy: 0.9937 - val_loss: 0.0018 - val_accuracy: 0.9888\n",
      "Epoch 19/20\n",
      "469/469 [==============================] - 6s 12ms/step - loss: 9.4507e-04 - accuracy: 0.9944 - val_loss: 0.0017 - val_accuracy: 0.9890\n",
      "Epoch 20/20\n",
      "469/469 [==============================] - 6s 13ms/step - loss: 8.9747e-04 - accuracy: 0.9946 - val_loss: 0.0017 - val_accuracy: 0.9893\n"
     ]
    },
    {
     "data": {
      "text/plain": [
       "<keras.callbacks.History at 0x7f89d55fe280>"
      ]
     },
     "execution_count": 9,
     "metadata": {},
     "output_type": "execute_result"
    }
   ],
   "source": [
    "model.compile(loss=keras.metrics.mean_squared_error, metrics=['accuracy'])\n",
    "model.fit(x_train, y_train, batch_size=128, epochs=20, verbose=1, validation_data=(x_test, y_test))"
   ]
  },
  {
   "cell_type": "markdown",
   "metadata": {},
   "source": [
    "### Evaluation"
   ]
  },
  {
   "cell_type": "code",
   "execution_count": 10,
   "metadata": {},
   "outputs": [
    {
     "name": "stdout",
     "output_type": "stream",
     "text": [
      "313/313 [==============================] - 3s 8ms/step - loss: 0.0017 - accuracy: 0.9893\n",
      "Loss: 0.0016790033550933003\n",
      "Accuracy: 0.989300012588501\n"
     ]
    }
   ],
   "source": [
    "loss, accuracy = model.evaluate(x_test, y_test)\n",
    "print(f\"Loss: {loss}\")\n",
    "print(f\"Accuracy: {accuracy}\")"
   ]
  }
 ],
 "metadata": {
  "kernelspec": {
   "display_name": "Python 3.8.10 64-bit",
   "language": "python",
   "name": "python3"
  },
  "language_info": {
   "codemirror_mode": {
    "name": "ipython",
    "version": 3
   },
   "file_extension": ".py",
   "mimetype": "text/x-python",
   "name": "python",
   "nbconvert_exporter": "python",
   "pygments_lexer": "ipython3",
   "version": "3.8.10"
  },
  "orig_nbformat": 4,
  "vscode": {
   "interpreter": {
    "hash": "916dbcbb3f70747c44a77c7bcd40155683ae19c65e1c03b4aa3499c5328201f1"
   }
  }
 },
 "nbformat": 4,
 "nbformat_minor": 2
}
